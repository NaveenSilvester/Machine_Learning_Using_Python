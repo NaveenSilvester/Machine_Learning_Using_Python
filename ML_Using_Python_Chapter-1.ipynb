{
 "cells": [
  {
   "cell_type": "code",
   "execution_count": 3,
   "id": "b954fdf6-f9b2-4ec5-9e58-149c5366eea7",
   "metadata": {},
   "outputs": [],
   "source": [
    "var1 = 2\n",
    "var2 = 5.0\n",
    "var3 = True\n",
    "var4 = \"Machine Learning\""
   ]
  },
  {
   "cell_type": "code",
   "execution_count": 4,
   "id": "1786ffa1-fc52-4a3e-9aef-7539a85b7060",
   "metadata": {},
   "outputs": [
    {
     "name": "stdout",
     "output_type": "stream",
     "text": [
      "2\n"
     ]
    }
   ],
   "source": [
    "print (var1)"
   ]
  },
  {
   "cell_type": "code",
   "execution_count": 5,
   "id": "1032c2e2-6cb4-4a9b-9fcc-a80f9a858e0c",
   "metadata": {},
   "outputs": [
    {
     "name": "stdout",
     "output_type": "stream",
     "text": [
      "5.0\n"
     ]
    }
   ],
   "source": [
    "print (var2)"
   ]
  },
  {
   "cell_type": "code",
   "execution_count": 6,
   "id": "86012362-45d1-4e47-bcf6-56d609ac2437",
   "metadata": {},
   "outputs": [
    {
     "name": "stdout",
     "output_type": "stream",
     "text": [
      "True\n"
     ]
    }
   ],
   "source": [
    "print(var3)"
   ]
  },
  {
   "cell_type": "code",
   "execution_count": 7,
   "id": "05e50ccf-821f-4500-8235-74d1aaaeb374",
   "metadata": {},
   "outputs": [
    {
     "name": "stdout",
     "output_type": "stream",
     "text": [
      "Machine Learning\n"
     ]
    }
   ],
   "source": [
    "print (var4)"
   ]
  },
  {
   "cell_type": "code",
   "execution_count": 9,
   "id": "37b7a7ff-d7ce-4b52-ba83-f37264ae3433",
   "metadata": {},
   "outputs": [
    {
     "data": {
      "text/plain": [
       "int"
      ]
     },
     "execution_count": 9,
     "metadata": {},
     "output_type": "execute_result"
    }
   ],
   "source": [
    "type(var1)"
   ]
  },
  {
   "cell_type": "code",
   "execution_count": 10,
   "id": "0d8e3eea-f9b6-4aa9-b786-df75d82e6bd3",
   "metadata": {},
   "outputs": [
    {
     "data": {
      "text/plain": [
       "float"
      ]
     },
     "execution_count": 10,
     "metadata": {},
     "output_type": "execute_result"
    }
   ],
   "source": [
    "type(var2)"
   ]
  },
  {
   "cell_type": "code",
   "execution_count": 11,
   "id": "e51a8140-d52e-4d9f-b3a2-834609a85350",
   "metadata": {},
   "outputs": [
    {
     "data": {
      "text/plain": [
       "bool"
      ]
     },
     "execution_count": 11,
     "metadata": {},
     "output_type": "execute_result"
    }
   ],
   "source": [
    "type(var3)"
   ]
  },
  {
   "cell_type": "code",
   "execution_count": 12,
   "id": "89e54b75-dd6a-4f7c-b54c-0223e68d59d2",
   "metadata": {},
   "outputs": [
    {
     "data": {
      "text/plain": [
       "str"
      ]
     },
     "execution_count": 12,
     "metadata": {},
     "output_type": "execute_result"
    }
   ],
   "source": [
    "type(var4)"
   ]
  },
  {
   "cell_type": "code",
   "execution_count": 14,
   "id": "5bd8e281-35f6-4344-8adf-668a4bb3233f",
   "metadata": {},
   "outputs": [
    {
     "name": "stdout",
     "output_type": "stream",
     "text": [
      "Value of var1 is:  2  and its data type is:  <class 'int'>\n"
     ]
    }
   ],
   "source": [
    "print (\"Value of var1 is: \", var1, \" and its data type is: \", type(var1))"
   ]
  },
  {
   "cell_type": "code",
   "execution_count": 15,
   "id": "9c910b74-ed64-4f12-8120-d40249fd66be",
   "metadata": {},
   "outputs": [
    {
     "name": "stdout",
     "output_type": "stream",
     "text": [
      "X is greater than 1, its value is :  2\n"
     ]
    }
   ],
   "source": [
    "#condition statements\n",
    "if var1 < 1:\n",
    "    print (\"X is less than 1\")\n",
    "\n",
    "else:\n",
    "    print (\"X is greater than 1, its value is : \", var1)"
   ]
  },
  {
   "cell_type": "code",
   "execution_count": 16,
   "id": "e29000d3-ce34-43a8-8b03-bc29954f2657",
   "metadata": {},
   "outputs": [
    {
     "name": "stdout",
     "output_type": "stream",
     "text": [
      "X is lesser than Y\n"
     ]
    }
   ],
   "source": [
    "x = 10\n",
    "y = 12\n",
    "if x > y:\n",
    "    print (\"X is greater than Y\")\n",
    "elif x < y:\n",
    "    print (\"X is lesser than Y\")\n",
    "else:\n",
    "    print (\"X is equal to Y\")"
   ]
  },
  {
   "cell_type": "code",
   "execution_count": 19,
   "id": "1d04b973-9bc3-4ea3-a7fc-111921a46e96",
   "metadata": {},
   "outputs": [
    {
     "name": "stdout",
     "output_type": "stream",
     "text": [
      "range(1, 6)\n"
     ]
    }
   ],
   "source": [
    "print (range(1,6))"
   ]
  },
  {
   "cell_type": "code",
   "execution_count": 21,
   "id": "9ec90c44-3fb9-4646-b362-5a3339ebb73d",
   "metadata": {},
   "outputs": [],
   "source": [
    "num = range(1,6)"
   ]
  },
  {
   "cell_type": "code",
   "execution_count": 22,
   "id": "3cb1a217-f745-4b28-bb42-1f081ad0ea05",
   "metadata": {},
   "outputs": [
    {
     "name": "stdout",
     "output_type": "stream",
     "text": [
      "range(1, 6)\n"
     ]
    }
   ],
   "source": [
    "print (num)"
   ]
  },
  {
   "cell_type": "code",
   "execution_count": 25,
   "id": "492bfb2e-8145-4a22-b338-d3c2efa5bee8",
   "metadata": {},
   "outputs": [
    {
     "name": "stdout",
     "output_type": "stream",
     "text": [
      "1\n",
      "2\n",
      "3\n",
      "4\n",
      "5\n"
     ]
    }
   ],
   "source": [
    "for i in num:\n",
    "    print (i)"
   ]
  },
  {
   "cell_type": "code",
   "execution_count": 26,
   "id": "4fa49f6e-efa3-45e4-8461-e6b23e57468b",
   "metadata": {},
   "outputs": [
    {
     "name": "stdout",
     "output_type": "stream",
     "text": [
      "0\n",
      "1\n",
      "2\n",
      "3\n",
      "4\n",
      "5\n"
     ]
    }
   ],
   "source": [
    "i = 0\n",
    "while i < 6:\n",
    "    print (i)\n",
    "    i = i + 1\n"
   ]
  },
  {
   "cell_type": "code",
   "execution_count": 27,
   "id": "4f6bb0ae-f834-4942-892e-ac22d456e9e0",
   "metadata": {},
   "outputs": [],
   "source": [
    "def addElements(a,b):\n",
    "    return (a + b)"
   ]
  },
  {
   "cell_type": "code",
   "execution_count": 28,
   "id": "29fe6d60-3270-4916-aa67-04a7ca757dd7",
   "metadata": {},
   "outputs": [
    {
     "data": {
      "text/plain": [
       "6"
      ]
     },
     "execution_count": 28,
     "metadata": {},
     "output_type": "execute_result"
    }
   ],
   "source": [
    "addElements(2,4)"
   ]
  },
  {
   "cell_type": "code",
   "execution_count": 29,
   "id": "244d1d3d-b973-4e1b-937b-41d782dd9ef9",
   "metadata": {},
   "outputs": [
    {
     "data": {
      "text/plain": [
       "'Naveen Silvester'"
      ]
     },
     "execution_count": 29,
     "metadata": {},
     "output_type": "execute_result"
    }
   ],
   "source": [
    "addElements(\"Naveen \", \"Silvester\")"
   ]
  },
  {
   "cell_type": "code",
   "execution_count": 30,
   "id": "295cf3e1-4a01-4ac0-b5bb-58a73debea2c",
   "metadata": {},
   "outputs": [],
   "source": [
    "emptyList = []"
   ]
  },
  {
   "cell_type": "code",
   "execution_count": 31,
   "id": "edd0a625-e712-422b-98b8-326695647a7e",
   "metadata": {},
   "outputs": [],
   "source": [
    "batsman = ['Rohit', 'Dhawan', 'Kohli', 'Rahane', 'Rayudu', 'Dhoni']\n",
    "bowler =['Bumrah', 'Shami', 'Bhuvi', 'Kuldee' 'Chahal']"
   ]
  },
  {
   "cell_type": "code",
   "execution_count": 32,
   "id": "abfda8eb-5062-4383-9de1-a0b9ed9ac741",
   "metadata": {},
   "outputs": [
    {
     "data": {
      "text/plain": [
       "'Rohit'"
      ]
     },
     "execution_count": 32,
     "metadata": {},
     "output_type": "execute_result"
    }
   ],
   "source": [
    "batsman[0]"
   ]
  },
  {
   "cell_type": "code",
   "execution_count": 33,
   "id": "367abd8c-fc09-42c6-bb56-6b784fa0523e",
   "metadata": {},
   "outputs": [
    {
     "data": {
      "text/plain": [
       "'Dhoni'"
      ]
     },
     "execution_count": 33,
     "metadata": {},
     "output_type": "execute_result"
    }
   ],
   "source": [
    "batsman[-1]"
   ]
  },
  {
   "cell_type": "code",
   "execution_count": 34,
   "id": "bb1d7711-9981-45dd-a5e0-bae70531d91a",
   "metadata": {},
   "outputs": [
    {
     "data": {
      "text/plain": [
       "['Rohit', 'Dhawan', 'Kohli', 'Rahane', 'Rayudu']"
      ]
     },
     "execution_count": 34,
     "metadata": {},
     "output_type": "execute_result"
    }
   ],
   "source": [
    "batsman[:-1]"
   ]
  },
  {
   "cell_type": "code",
   "execution_count": 35,
   "id": "9bc848ce-6d70-43cc-83fb-21d5694fb5f8",
   "metadata": {},
   "outputs": [
    {
     "data": {
      "text/plain": [
       "['Rohit', 'Dhawan', 'Kohli', 'Rahane', 'Rayudu', 'Dhoni']"
      ]
     },
     "execution_count": 35,
     "metadata": {},
     "output_type": "execute_result"
    }
   ],
   "source": [
    "batsman"
   ]
  },
  {
   "cell_type": "code",
   "execution_count": 36,
   "id": "f1c6ea99-e1d6-46b8-b00c-4bff77ddc0fc",
   "metadata": {},
   "outputs": [
    {
     "data": {
      "text/plain": [
       "['Dhoni', 'Rayudu', 'Rahane', 'Kohli', 'Dhawan', 'Rohit']"
      ]
     },
     "execution_count": 36,
     "metadata": {},
     "output_type": "execute_result"
    }
   ],
   "source": [
    "batsman[::-1]"
   ]
  },
  {
   "cell_type": "code",
   "execution_count": 37,
   "id": "7ad7f79d-635b-46ec-986e-219d8b9f66c5",
   "metadata": {},
   "outputs": [
    {
     "data": {
      "text/plain": [
       "['Rohit', 'Dhawan']"
      ]
     },
     "execution_count": 37,
     "metadata": {},
     "output_type": "execute_result"
    }
   ],
   "source": [
    "batsman[0:2]"
   ]
  },
  {
   "cell_type": "code",
   "execution_count": 40,
   "id": "a8843842-4fce-4e77-81aa-c89b097a4b80",
   "metadata": {},
   "outputs": [
    {
     "data": {
      "text/plain": [
       "['Rohit', 'Dhawan', 'Kohli', 'Rahane', 'Rayudu', 'Dhoni']"
      ]
     },
     "execution_count": 40,
     "metadata": {},
     "output_type": "execute_result"
    }
   ],
   "source": [
    "batsman"
   ]
  },
  {
   "cell_type": "code",
   "execution_count": 41,
   "id": "1bbfa674-e96e-43a1-9bab-322a6de396c6",
   "metadata": {},
   "outputs": [
    {
     "data": {
      "text/plain": [
       "['Dhoni', 'Rayudu', 'Rahane', 'Kohli', 'Dhawan', 'Rohit']"
      ]
     },
     "execution_count": 41,
     "metadata": {},
     "output_type": "execute_result"
    }
   ],
   "source": [
    "batsman.reverse()\n",
    "batsman"
   ]
  },
  {
   "cell_type": "code",
   "execution_count": 42,
   "id": "1935bb75-22c5-4b3b-9d0a-b5e203a6ac1f",
   "metadata": {},
   "outputs": [
    {
     "data": {
      "text/plain": [
       "['Dhoni', 'Rayudu', 'Rahane', 'Kohli', 'Dhawan', 'Rohit']"
      ]
     },
     "execution_count": 42,
     "metadata": {},
     "output_type": "execute_result"
    }
   ],
   "source": [
    "batsman"
   ]
  },
  {
   "cell_type": "code",
   "execution_count": 43,
   "id": "2613c5e9-005a-4bdd-b1e0-3deb80cdc6e3",
   "metadata": {},
   "outputs": [],
   "source": [
    "batsman.reverse()"
   ]
  },
  {
   "cell_type": "code",
   "execution_count": 44,
   "id": "3b356709-1fe3-4d46-b8e5-37c166070c94",
   "metadata": {},
   "outputs": [
    {
     "data": {
      "text/plain": [
       "['Rohit', 'Dhawan', 'Kohli', 'Rahane', 'Rayudu', 'Dhoni']"
      ]
     },
     "execution_count": 44,
     "metadata": {},
     "output_type": "execute_result"
    }
   ],
   "source": [
    "batsman"
   ]
  },
  {
   "cell_type": "code",
   "execution_count": 45,
   "id": "c7ad8b6d-8ea5-4c21-b62d-00e0110a9159",
   "metadata": {},
   "outputs": [
    {
     "data": {
      "text/plain": [
       "['Rohit',\n",
       " 'Dhawan',\n",
       " 'Kohli',\n",
       " 'Rahane',\n",
       " 'Rayudu',\n",
       " 'Dhoni',\n",
       " 'Bumrah',\n",
       " 'Shami',\n",
       " 'Bhuvi',\n",
       " 'KuldeeChahal']"
      ]
     },
     "execution_count": 45,
     "metadata": {},
     "output_type": "execute_result"
    }
   ],
   "source": [
    "all_players = batsman + bowler\n",
    "all_players"
   ]
  },
  {
   "cell_type": "code",
   "execution_count": 47,
   "id": "60e870c1-7113-4822-852f-ff2a86482250",
   "metadata": {},
   "outputs": [
    {
     "data": {
      "text/plain": [
       "5"
      ]
     },
     "execution_count": 47,
     "metadata": {},
     "output_type": "execute_result"
    }
   ],
   "source": [
    "all_players.index(\"Dhoni\")"
   ]
  },
  {
   "cell_type": "code",
   "execution_count": 48,
   "id": "b43c11b6-3a31-46ea-b849-d760f4690c78",
   "metadata": {},
   "outputs": [],
   "source": [
    "odiDebut = (\"Kohli\", 2008)"
   ]
  },
  {
   "cell_type": "code",
   "execution_count": 49,
   "id": "b6c8fac8-1b4f-4d06-bece-c3af4ac5f302",
   "metadata": {},
   "outputs": [
    {
     "data": {
      "text/plain": [
       "('Kohli', 2008)"
      ]
     },
     "execution_count": 49,
     "metadata": {},
     "output_type": "execute_result"
    }
   ],
   "source": [
    "odiDebut"
   ]
  },
  {
   "cell_type": "code",
   "execution_count": 52,
   "id": "8329e90f-a765-48e8-9ba9-94a3cabe38ec",
   "metadata": {},
   "outputs": [
    {
     "data": {
      "text/plain": [
       "{1, 2, 3, 4, 5, 6}"
      ]
     },
     "execution_count": 52,
     "metadata": {},
     "output_type": "execute_result"
    }
   ],
   "source": [
    "setOfNumbers = {1,2,3,4,5,5,6}\n",
    "setOfNumbers"
   ]
  },
  {
   "cell_type": "code",
   "execution_count": 53,
   "id": "7c48249a-1b26-4bc9-9264-63b5827246a0",
   "metadata": {},
   "outputs": [],
   "source": [
    "l1 = {1,2,3,4,5}\n",
    "l2 = {5,6,7,8,9}"
   ]
  },
  {
   "cell_type": "code",
   "execution_count": 54,
   "id": "f9b8ae8d-afc0-465d-b328-bd1af8647f5b",
   "metadata": {},
   "outputs": [
    {
     "data": {
      "text/plain": [
       "{1, 2, 3, 4, 5, 6, 7, 8, 9}"
      ]
     },
     "execution_count": 54,
     "metadata": {},
     "output_type": "execute_result"
    }
   ],
   "source": [
    "union = l1.union(l2)\n",
    "union"
   ]
  },
  {
   "cell_type": "code",
   "execution_count": 55,
   "id": "c0629512-2590-4d9a-9e59-d74b684a28d2",
   "metadata": {},
   "outputs": [
    {
     "data": {
      "text/plain": [
       "{5}"
      ]
     },
     "execution_count": 55,
     "metadata": {},
     "output_type": "execute_result"
    }
   ],
   "source": [
    "intersec = l1.intersection(l2)\n",
    "intersec"
   ]
  },
  {
   "cell_type": "code",
   "execution_count": 56,
   "id": "f569b4ba-fd1c-48a4-bf36-7397df85194f",
   "metadata": {},
   "outputs": [
    {
     "data": {
      "text/plain": [
       "{1, 2, 3, 4}"
      ]
     },
     "execution_count": 56,
     "metadata": {},
     "output_type": "execute_result"
    }
   ],
   "source": [
    "l3 = l1.difference(l2)\n",
    "l3"
   ]
  },
  {
   "cell_type": "code",
   "execution_count": 57,
   "id": "69bc32ba-1ce5-4d9c-9f27-269e8c5861a2",
   "metadata": {},
   "outputs": [],
   "source": [
    "wcWinner = {\n",
    "    1975 : \"West Indies\",\n",
    "    1979 : \"West Indies\",\n",
    "    1983 : \"India\",\n",
    "    1987 : \"Australia\",\n",
    "    1991 : \"Pakistan\",\n",
    "    1996 : \"Srilanka\", \n",
    "    1999 : \"Australia\", \n",
    "    2003 : \"Australia\",\n",
    "    2007 : \"Australia\",\n",
    "    2011 : \"India\"\n",
    "}"
   ]
  },
  {
   "cell_type": "code",
   "execution_count": 58,
   "id": "8c4ba74f-fb46-47d7-927d-8c2ebd24d7cb",
   "metadata": {},
   "outputs": [
    {
     "data": {
      "text/plain": [
       "dict"
      ]
     },
     "execution_count": 58,
     "metadata": {},
     "output_type": "execute_result"
    }
   ],
   "source": [
    "type(wcWinner)"
   ]
  },
  {
   "cell_type": "code",
   "execution_count": 59,
   "id": "58d3cd89-ad36-4398-b378-64582309f4e7",
   "metadata": {},
   "outputs": [
    {
     "data": {
      "text/plain": [
       "{1975: 'West Indies',\n",
       " 1979: 'West Indies',\n",
       " 1983: 'India',\n",
       " 1987: 'Australia',\n",
       " 1991: 'Pakistan',\n",
       " 1996: 'Srilanka',\n",
       " 1999: 'Australia',\n",
       " 2003: 'Australia',\n",
       " 2007: 'Australia',\n",
       " 2011: 'India'}"
      ]
     },
     "execution_count": 59,
     "metadata": {},
     "output_type": "execute_result"
    }
   ],
   "source": [
    "wcWinner"
   ]
  },
  {
   "cell_type": "code",
   "execution_count": 61,
   "id": "789a3ceb-289c-47e2-9a2a-47b37d62ba6f",
   "metadata": {},
   "outputs": [
    {
     "data": {
      "text/plain": [
       "'India'"
      ]
     },
     "execution_count": 61,
     "metadata": {},
     "output_type": "execute_result"
    }
   ],
   "source": [
    "wcWinner[1983]"
   ]
  },
  {
   "cell_type": "code",
   "execution_count": 62,
   "id": "8a2b2821-c038-4e21-998d-545f37ef1cdd",
   "metadata": {},
   "outputs": [
    {
     "data": {
      "text/plain": [
       "dict_values(['West Indies', 'West Indies', 'India', 'Australia', 'Pakistan', 'Srilanka', 'Australia', 'Australia', 'Australia', 'India'])"
      ]
     },
     "execution_count": 62,
     "metadata": {},
     "output_type": "execute_result"
    }
   ],
   "source": [
    "wcWinner.values()"
   ]
  },
  {
   "cell_type": "code",
   "execution_count": 63,
   "id": "fdc5d4de-cfd4-44cf-90d4-199acf39c440",
   "metadata": {},
   "outputs": [
    {
     "data": {
      "text/plain": [
       "{1975: 'West Indies',\n",
       " 1979: 'West Indies',\n",
       " 1983: 'India',\n",
       " 1987: 'Australia',\n",
       " 1991: 'Pakistan',\n",
       " 1996: 'Srilanka',\n",
       " 1999: 'Australia',\n",
       " 2003: 'Australia',\n",
       " 2007: 'Australia',\n",
       " 2011: 'India',\n",
       " 2015: 'Australia'}"
      ]
     },
     "execution_count": 63,
     "metadata": {},
     "output_type": "execute_result"
    }
   ],
   "source": [
    "wcWinner[2015] = \"Australia\"\n",
    "wcWinner"
   ]
  },
  {
   "cell_type": "code",
   "execution_count": 64,
   "id": "73d15368-d63b-4bc1-a951-ed6db68d9e25",
   "metadata": {},
   "outputs": [],
   "source": [
    "string0 = \"python\"\n",
    "string1 = \"Machine Learning\""
   ]
  },
  {
   "cell_type": "code",
   "execution_count": 65,
   "id": "a9f748dd-6268-4bcd-85b4-ad1a3bbf9973",
   "metadata": {},
   "outputs": [
    {
     "name": "stdout",
     "output_type": "stream",
     "text": [
      "python\n",
      "PYTHON\n"
     ]
    }
   ],
   "source": [
    "print (string0)\n",
    "print (string0.upper())"
   ]
  },
  {
   "cell_type": "code",
   "execution_count": 66,
   "id": "fd322954-ca41-4786-9e13-b90cda337e66",
   "metadata": {},
   "outputs": [
    {
     "name": "stdout",
     "output_type": "stream",
     "text": [
      "Machine Learning\n",
      "['Machine', 'Learning']\n"
     ]
    }
   ],
   "source": [
    "print (string1)\n",
    "print (string1.split(\" \"))"
   ]
  },
  {
   "cell_type": "code",
   "execution_count": 72,
   "id": "d647d070-d396-4770-b1a5-6bea0800fc45",
   "metadata": {},
   "outputs": [
    {
     "data": {
      "text/plain": [
       "16"
      ]
     },
     "execution_count": 72,
     "metadata": {},
     "output_type": "execute_result"
    }
   ],
   "source": [
    "len(string1)"
   ]
  },
  {
   "cell_type": "code",
   "execution_count": 73,
   "id": "8d643455-00ab-4816-a44b-40b5c440bda1",
   "metadata": {},
   "outputs": [
    {
     "name": "stdout",
     "output_type": "stream",
     "text": [
      "1\n",
      "2\n",
      "3\n",
      "4\n",
      "5\n",
      "6\n",
      "7\n",
      "8\n",
      "9\n"
     ]
    }
   ],
   "source": [
    "inList = [1,2,3,4,5,6,7,8,9]\n",
    "for i in inList:\n",
    "    print (i)"
   ]
  },
  {
   "cell_type": "code",
   "execution_count": 77,
   "id": "674527e8-34cd-4ec7-a5c4-38dcaf1f9388",
   "metadata": {},
   "outputs": [
    {
     "name": "stdout",
     "output_type": "stream",
     "text": [
      "1\n",
      "4\n",
      "9\n",
      "16\n",
      "25\n",
      "36\n",
      "49\n",
      "64\n",
      "81\n"
     ]
    }
   ],
   "source": [
    "for i in inList:\n",
    "    x = i * i\n",
    "    print (x)"
   ]
  },
  {
   "cell_type": "code",
   "execution_count": 78,
   "id": "09fe843c-116f-408f-810a-7d7a8a3f298d",
   "metadata": {},
   "outputs": [
    {
     "name": "stdout",
     "output_type": "stream",
     "text": [
      "[1, 4, 9, 16, 25, 36, 49, 64, 81]\n"
     ]
    }
   ],
   "source": [
    "squareList = []\n",
    "for x in inList:\n",
    "    squareList.append(pow(x,2))\n",
    "\n",
    "print (squareList)"
   ]
  },
  {
   "cell_type": "code",
   "execution_count": 79,
   "id": "40b092d5-0773-43fb-9bc2-d823bf632ac2",
   "metadata": {},
   "outputs": [
    {
     "data": {
      "text/plain": [
       "[1, 4, 9, 16, 25, 36, 49, 64, 81]"
      ]
     },
     "execution_count": 79,
     "metadata": {},
     "output_type": "execute_result"
    }
   ],
   "source": [
    "squareList"
   ]
  },
  {
   "cell_type": "code",
   "execution_count": 86,
   "id": "bea7e364-3991-4536-ba71-43800a24c1b3",
   "metadata": {},
   "outputs": [],
   "source": [
    "def square_me(x):\n",
    "    return (x * x)"
   ]
  },
  {
   "cell_type": "code",
   "execution_count": 83,
   "id": "5387b888-bcc2-4757-8939-083ec7491996",
   "metadata": {},
   "outputs": [
    {
     "data": {
      "text/plain": [
       "[1, 4, 9, 16, 25, 36, 49, 64, 81]"
      ]
     },
     "execution_count": 83,
     "metadata": {},
     "output_type": "execute_result"
    }
   ],
   "source": [
    "squareList = map(square_me, inList)\n",
    "list(squareList)"
   ]
  },
  {
   "cell_type": "code",
   "execution_count": 85,
   "id": "255ee5ba-d44a-4e62-92ce-9070981b21f0",
   "metadata": {},
   "outputs": [
    {
     "data": {
      "text/plain": [
       "[2, 4, 6, 8]"
      ]
     },
     "execution_count": 85,
     "metadata": {},
     "output_type": "execute_result"
    }
   ],
   "source": [
    "EvenNum = filter(lambda x :x%2 == 0, inList)\n",
    "list(EvenNum)"
   ]
  },
  {
   "cell_type": "code",
   "execution_count": null,
   "id": "6c3fed22-3e91-45c5-bad5-cf39f9dcee0c",
   "metadata": {},
   "outputs": [],
   "source": []
  }
 ],
 "metadata": {
  "kernelspec": {
   "display_name": "Python 3 (ipykernel)",
   "language": "python",
   "name": "python3"
  },
  "language_info": {
   "codemirror_mode": {
    "name": "ipython",
    "version": 3
   },
   "file_extension": ".py",
   "mimetype": "text/x-python",
   "name": "python",
   "nbconvert_exporter": "python",
   "pygments_lexer": "ipython3",
   "version": "3.12.4"
  }
 },
 "nbformat": 4,
 "nbformat_minor": 5
}
